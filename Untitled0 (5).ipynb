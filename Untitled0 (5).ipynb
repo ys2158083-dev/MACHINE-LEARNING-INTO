{
  "nbformat": 4,
  "nbformat_minor": 0,
  "metadata": {
    "colab": {
      "provenance": []
    },
    "kernelspec": {
      "name": "python3",
      "display_name": "Python 3"
    },
    "language_info": {
      "name": "python"
    }
  },
  "cells": [
    {
      "cell_type": "code",
      "execution_count": null,
      "metadata": {
        "id": "wBKZN7YwGAiJ"
      },
      "outputs": [],
      "source": []
    },
    {
      "cell_type": "markdown",
      "source": [
        " # Machine Learning Intro\n",
        "\n",
        " # Question 1: Explain the differences between AI, ML, Deep Learning (DL), and Data Science (DS).\n",
        "Answer: 1. Artificial Intelligence (AI): AI refers to the development of computer systems that can perform tasks that typically require human intelligence, such as understanding language, recognizing images, and making decisions. AI is a broad field that encompasses a range of techniques and approaches.\n",
        "\n",
        "2. Machine Learning (ML): ML is a subset of AI that involves training algorithms on data to enable machines to learn from experience and improve their performance on specific tasks. ML algorithms can learn patterns, relationships, and decision-making rules from data, allowing them to make predictions or take actions.\n",
        "\n",
        "3. Deep Learning (DL): DL is a subset of ML that uses neural networks with multiple layers to learn complex patterns and representations in data. DL is particularly useful for tasks like image recognition, speech recognition, and natural language processing.\n",
        "\n",
        "4. Data Science (DS): DS is a field that involves extracting insights and knowledge from data using various techniques, including ML, statistics,  . The goal is to learn a mapping between input data and the corresponding output labels, so the algorithm can make predictions on new, unseen data.\n",
        "\n",
        "Example: Image classification for self-driving cars. A supervised learning algorithm is trained on a dataset of images labeled as \"pedestrian,\" \"stop sign,\" \"traffic light,\" etc. The algorithm learns to recognize these objects in new images, enabling the self-driving car to respond accordingly.\n",
        "\n",
        "2. Unsupervised Learning\n",
        "In unsupervised learning, the algorithm is trained on unlabeled data, and its goal is to identify patterns, relationships, or groupings within the data.\n",
        "\n",
        "Example: Customer segmentation in marketing. An unsupervised learning algorithm analyzes customer data (e.g., purchase history, demographics) to identify clusters of similar customers. This helps businesses tailor their marketing strategies to specific customer segments.\n",
        "\n",
        "3. Reinforcement Learning\n",
        "In reinforcement learning, an agent learns by interacting with an environment and receiving rewards or penalties for its actions. The goal is to learn a policy that maximizes the cumulative reward over time.\n",
        "\n",
        "Example: Game-playing AI, such as AlphaGo. The AI learns to play Go by interacting with the game environment, receiving rewards for winning moves and penalties for losing ones. Through trial and error, the AI develops a winning strategy.\n",
        "\n",
        "These types of machine learning have numerous applications in various industries!\n",
        "\n",
        " # Question 3: Define overfitting, underfitting, and the bias-variance tradeoff in machine learning.\n",
        "Answer:\n",
        "1. Overfitting\n",
        "Overfitting occurs when a machine learning model is too complex and fits the training data too closely. As a result, the model learns the noise and random fluctuations in the training data, rather than the underlying patterns. This leads to poor performance on new, unseen data.\n",
        "\n",
        "Example: A model that perfectly predicts the training data but performs poorly on test data.\n",
        "\n",
        "2. Underfitting\n",
        "Underfitting occurs when a machine learning model is too simple and fails to capture the underlying patterns in the training data. As a result, the model performs poorly on both the training data and new, unseen data.\n",
        "\n",
        "Example: A linear model trying to predict a complex, non-linear relationship.\n",
        "\n",
        "3. Bias-Variance Tradeoff\n",
        "The bias-variance tradeoff refers to the balance between:\n",
        "- Bias: The error introduced by simplifying the model or making assumptions about the data. High bias models tend to underfit.\n",
        "- Variance: The error introduced by fitting the model too closely to the training data. High variance models tend to overfit.\n",
        "\n",
        "The goal is to find a balance between bias and variance, where the model is complex enough to capture the underlying patterns but not so complex that it fits the noise.\n",
        "\n",
        "Key idea: Increasing model complexity can reduce bias but increase variance, and vice versa. Finding the right balance is crucial for achieving good performance in machine learning models.\n",
        "\n",
        "# Question 4: What are outliers in a dataset, and list three common techniques for handling them.\n",
        "Answer:Outliers are data points that differ significantly from other observations in a dataset, often due to errors in measurement, unusual patterns, or rare events. Outliers can affect the accuracy and reliability of statistical models and analyses.\n",
        "\n",
        "Common Techniques for Handling Outliers:\n",
        "1. Winsorization: This technique involves replacing a portion of the data at the extremes (e.g., top and bottom 1%) with a value closer to the median or mean. This reduces the impact of outliers without removing them entirely.\n",
        "\n",
        "2. Trimming: Trimming involves removing a percentage of the data from the extremes (e.g., removing the top and bottom 1% of values). This method can help reduce the influence of outliers on statistical analyses.\n",
        "\n",
        "3. Robust Statistical Methods: Using robust statistical methods, such as the median instead of the mean, or robust regression techniques, can minimize the impact of outliers. These methods are designed to be less sensitive to extreme values.\n",
        "\n",
        "These techniques help ensure that outliers do not disproportionately affect the analysis or model performance. The choice of method depends on the nature of the data and the specific problem being addressed.\n",
        "\n",
        "# Question 5: Explain the process of handling missing values and mention one imputation technique for numerical and one for categorical data.\n",
        "Answer: Handling Missing Values:\n",
        "\n",
        "1. Identify missing values: Detect missing values in the dataset.\n",
        "2. Determine the type of missing data: Understand whether the data is missing completely at random (MCAR), missing at random (MAR), or missing not at random (MNAR).\n",
        "3. Choose a handling strategy: Decide on a strategy to handle missing values, such as imputation, interpolation, or removal.\n",
        "\n",
        "Imputation Techniques:\n",
        "1. Numerical Data: Mean Imputation\n",
        "Mean imputation involves replacing missing values with the mean of the observed values for that variable. This method is simple but can be sensitive to outliers.\n",
        "\n",
        "2. Categorical Data: Mode Imputation\n",
        "Mode imputation involves replacing missing values with the most frequently occurring category (mode) for that variable. This method is straightforward and effective for categorical data.\n",
        "\n",
        "These imputation techniques help ensure that missing values do not compromise the quality of the analysis or model performance.\n"
      ],
      "metadata": {
        "id": "frZtPQIbGL9x"
      }
    },
    {
      "cell_type": "code",
      "source": [
        "# Question 6: Write a Python program that: ● Creates a synthetic imbalanced dataset with make_classification() from sklearn.datasets. ● Prints the class distribution.\n",
        "''\n",
        "\n",
        "\n",
        "# Import necessary libraries\n",
        "from sklearn.datasets import make_classification\n",
        "import numpy as np\n",
        "\n",
        "# Create a synthetic imbalanced dataset\n",
        "X, y = make_classification(\n",
        "    n_samples=1000,\n",
        "    n_features=20,\n",
        "    n_informative=15,\n",
        "    n_redundant=3,\n",
        "    n_repeated=2,\n",
        "    n_classes=2,\n",
        "    n_clusters_per_class=1,\n",
        "    weights=[0.9, 0.1],  # Class imbalance: 90% class 0, 10% class 1\n",
        "    random_state=42\n",
        ")\n",
        "# Print class distribution\n",
        "unique, counts = np.unique(y, return_counts=True)\n",
        "print(\"Class Distribution:\")\n",
        "for class_label, count in zip(unique, counts):\n",
        "    print(f\"Class {class_label}: {count} samples ({count / len(y) * 100:.2f}%)\")\n",
        "\n",
        "\n",
        "''"
      ],
      "metadata": {
        "colab": {
          "base_uri": "https://localhost:8080/",
          "height": 88
        },
        "id": "9UW-UKQ-GXt3",
        "outputId": "cbdf0089-ba99-4124-f74c-fc60c7bb870a"
      },
      "execution_count": null,
      "outputs": [
        {
          "output_type": "stream",
          "name": "stdout",
          "text": [
            "Class Distribution:\n",
            "Class 0: 898 samples (89.80%)\n",
            "Class 1: 102 samples (10.20%)\n"
          ]
        },
        {
          "output_type": "execute_result",
          "data": {
            "text/plain": [
              "''"
            ],
            "application/vnd.google.colaboratory.intrinsic+json": {
              "type": "string"
            }
          },
          "metadata": {},
          "execution_count": 2
        }
      ]
    },
    {
      "cell_type": "code",
      "source": [
        "# Question 7: Implement one-hot encoding using pandas for the following list of colors: ['Red', 'Green', 'Blue', 'Green', 'Red']. Print the resulting dataframe.\n",
        "''\n",
        "import pandas as pd\n",
        "\n",
        "colors = ['Red', 'Green', 'Blue', 'Green', 'Red']\n",
        "\n",
        "# Create a DataFrame\n",
        "df = pd.DataFrame(colors, columns=['Color'])\n",
        "\n",
        "# One-hot encoding\n",
        "one_hot = pd.get_dummies(df['Color'])\n",
        "\n",
        "print(one_hot)\n",
        "\n",
        "''"
      ],
      "metadata": {
        "colab": {
          "base_uri": "https://localhost:8080/",
          "height": 140
        },
        "id": "DKEWbFs8J3Dg",
        "outputId": "10d86d68-d636-4472-b0e4-80ebc214b9a3"
      },
      "execution_count": null,
      "outputs": [
        {
          "output_type": "stream",
          "name": "stdout",
          "text": [
            "    Blue  Green    Red\n",
            "0  False  False   True\n",
            "1  False   True  False\n",
            "2   True  False  False\n",
            "3  False   True  False\n",
            "4  False  False   True\n"
          ]
        },
        {
          "output_type": "execute_result",
          "data": {
            "text/plain": [
              "''"
            ],
            "application/vnd.google.colaboratory.intrinsic+json": {
              "type": "string"
            }
          },
          "metadata": {},
          "execution_count": 3
        }
      ]
    },
    {
      "cell_type": "code",
      "source": [
        "# Question 8: Write a Python script to: ● Generate 1000 samples from a normal distribution. ● Introduce 50 random missing values. ● Fill missing values with the column mean. ● Plot a histogram before and after imputation.\n",
        "''\n",
        "import numpy as np\n",
        "import matplotlib.pyplot as plt\n",
        "import pandas as pd\n",
        "\n",
        "# Generate 1000 samples from a normal distribution\n",
        "np.random.seed(0)\n",
        "data = np.random.normal(loc=0, scale=1, size=1000)\n",
        "\n",
        "# Introduce 50 random missing values\n",
        "missing_indices = np.random.choice(1000, size=50, replace=False)\n",
        "data_missing = data.copy()\n",
        "data_missing[missing_indices] = np.nan\n",
        "\n",
        "# Create a DataFrame\n",
        "df = pd.DataFrame(data_missing, columns=['Value'])\n",
        "\n",
        "# Plot histogram before imputation\n",
        "plt.figure(figsize=(10, 5))\n",
        "plt.subplot(1, 2, 1)\n",
        "plt.hist(df['Value'].dropna(), bins=30, alpha=0.7, color='blue', edgecolor='black')\n",
        "plt.title('Before Imputation')\n",
        "plt.xlabel('Value')\n",
        "plt.ylabel('Frequency')\n",
        "\n",
        "# Fill missing values with the column mean\n",
        "mean_value = df['Value'].mean()\n",
        "df['Value'] = df['Value'].fillna(mean_value)\n",
        "\n",
        "# Plot histogram after imputation\n",
        "plt.subplot(1, 2, 2)\n",
        "plt.hist(df['Value'], bins=30, alpha=0.7, color='green', edgecolor='black')\n",
        "plt.title('After Imputation')\n",
        "plt.xlabel('Value')\n",
        "plt.ylabel('Frequency')\n",
        "plt.tight_layout()\n",
        "plt.show()\n",
        "\n",
        "\n",
        "''\n"
      ],
      "metadata": {
        "colab": {
          "base_uri": "https://localhost:8080/",
          "height": 334
        },
        "id": "AC1lbRzKK1RM",
        "outputId": "adc88ddd-31bc-4e3b-9ce0-84e225e347a5"
      },
      "execution_count": null,
      "outputs": [
        {
          "output_type": "display_data",
          "data": {
            "text/plain": [
              "<Figure size 1000x500 with 2 Axes>"
            ],
            "image/png": "[encoded data removed]"
          },
          "metadata": {}
        },
        {
          "output_type": "execute_result",
          "data": {
            "text/plain": [
              "''"
            ],
            "application/vnd.google.colaboratory.intrinsic+json": {
              "type": "string"
            }
          },
          "metadata": {},
          "execution_count": 4
        }
      ]
    },
    {
      "cell_type": "code",
      "source": [
        "# Question 9: Implement Min-Max scaling on the following list of numbers [2, 5, 10, 15, 20] using sklearn.preprocessing.MinMaxScaler. Print the scaled array.\n",
        "''\n",
        "from sklearn.preprocessing import MinMaxScaler\n",
        "import numpy as np\n",
        "\n",
        "# List of numbers\n",
        "numbers = np.array([2, 5, 10, 15, 20]).reshape(-1, 1)\n",
        "\n",
        "# Create a MinMaxScaler object\n",
        "scaler = MinMaxScaler()\n",
        "\n",
        "# Fit and transform the data\n",
        "scaled_numbers = scaler.fit_transform(numbers)\n",
        "\n",
        "# Print the scaled array\n",
        "print(scaled_numbers)\n",
        "\n",
        "''\n"
      ],
      "metadata": {
        "id": "Gmmkar91Llb-",
        "colab": {
          "base_uri": "https://localhost:8080/",
          "height": 122
        },
        "outputId": "a25d2d44-3e17-4b05-c56d-04eac39915b3"
      },
      "execution_count": 5,
      "outputs": [
        {
          "output_type": "stream",
          "name": "stdout",
          "text": [
            "[[0.        ]\n",
            " [0.16666667]\n",
            " [0.44444444]\n",
            " [0.72222222]\n",
            " [1.        ]]\n"
          ]
        },
        {
          "output_type": "execute_result",
          "data": {
            "text/plain": [
              "''"
            ],
            "application/vnd.google.colaboratory.intrinsic+json": {
              "type": "string"
            }
          },
          "metadata": {},
          "execution_count": 5
        }
      ]
    }
  ]
}